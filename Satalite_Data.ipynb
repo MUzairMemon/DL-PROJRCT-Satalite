{
  "cells": [
    {
      "cell_type": "markdown",
      "source": [
        "**LOAD DATASET**\n",
        "\n",
        "\n",
        "> Loading the dataset form Tensorflow Datasets\n"
      ],
      "metadata": {
        "id": "L7cq23TDi8j4"
      }
    },
    {
      "cell_type": "code",
      "source": [],
      "metadata": {
        "id": "30t63m0YmAeP"
      },
      "execution_count": null,
      "outputs": []
    },
    {
      "cell_type": "code",
      "execution_count": 3,
      "metadata": {
        "id": "HMMbPb7PUE0q"
      },
      "outputs": [],
      "source": [
        "import tensorflow_datasets as tfds\n",
        "\n",
        "ds = tfds.load('so2sat', split = ('train', 'validation'), batch_size = -1)\n",
        "\n"
      ]
    },
    {
      "cell_type": "markdown",
      "source": [
        "**Libraries**\n",
        "\n",
        "\n",
        "> Importing all required Libraries\n",
        "\n"
      ],
      "metadata": {
        "id": "KX8so_nljZ_1"
      }
    },
    {
      "cell_type": "code",
      "source": [
        "pip install visualkeras"
      ],
      "metadata": {
        "id": "XHtBW67n1bv7"
      },
      "execution_count": null,
      "outputs": []
    },
    {
      "cell_type": "code",
      "source": [
        "import sys\n",
        "import numpy as np\n",
        "import visualkeras\n",
        "from sklearn.metrics import classification_report, confusion_matrix\n",
        "import seaborn as sns\n",
        "from matplotlib import pyplot as plt\n",
        "from keras.utils import to_categorical\n",
        "from keras.models import Sequential\n",
        "from keras.layers import Conv2D\n",
        "from keras.layers import MaxPooling2D\n",
        "from keras.layers import Dense\n",
        "from keras.layers import Flatten\n",
        "from keras.layers import Dropout\n",
        "from keras.optimizers import SGD\n",
        "import tensorflow as tf\n",
        "from tensorflow.keras.preprocessing.image import ImageDataGenerator"
      ],
      "metadata": {
        "id": "SMDiFw2dy0xQ"
      },
      "execution_count": 5,
      "outputs": []
    },
    {
      "cell_type": "markdown",
      "source": [
        "**Spliting and Visualizing**\n",
        "\n",
        "\n",
        "> Spliting data into test and validation and visualizing the data\n",
        "\n"
      ],
      "metadata": {
        "id": "ET0ephcUjdI7"
      }
    },
    {
      "cell_type": "code",
      "source": [
        "def load_dataset():\n",
        "  train = ds[0]\n",
        "  test = ds[1]\n",
        "  \n",
        "  X_train = np.asarray(train['image'])\n",
        "  Y_train = np.asarray(train['label'])\n",
        "  \n",
        "  x_test = np.asarray(test['image'])\n",
        "  y_test = np.asarray(test['label'])\n",
        "  \n",
        "  for i in range(9):\n",
        "    # define subplot\n",
        "    plt.subplot(330+1+i)\n",
        "    # plot raw pixel data\n",
        "    plt.imshow(X_train[i])\n",
        "    print(Y_train[i])\n",
        "    # show the figure\n",
        "    plt.show()\n",
        "\n",
        "\n",
        "  print(X_train.shape, Y_train.shape)\n",
        "  print(x_test.shape, y_test.shape)\n",
        "  \n",
        "  return (X_train,Y_train,x_test,y_test)"
      ],
      "metadata": {
        "id": "HPzcBds7zjxi"
      },
      "execution_count": 6,
      "outputs": []
    },
    {
      "cell_type": "markdown",
      "source": [
        "**Normalization**\n",
        "\n",
        "\n",
        "> Normalizing Image Pixels in range between 0-1\n",
        "\n"
      ],
      "metadata": {
        "id": "nhU5yVhnjpeM"
      }
    },
    {
      "cell_type": "code",
      "source": [
        "def Normalization(Data):\n",
        "\tNormalized_Data = Data.astype('float32')\n",
        "\tNormalized_Data = Normalized_Data / 255.0\n",
        "\treturn Normalized_Data"
      ],
      "metadata": {
        "id": "AiHloU_lzgnP"
      },
      "execution_count": 7,
      "outputs": []
    },
    {
      "cell_type": "markdown",
      "source": [
        "**CNN Model**\n",
        "\n",
        "\n",
        "> CNN Model acording to my Registration number \n",
        "\n",
        "\n",
        "> Name: Muhammad Uzair Memon\n",
        "\n",
        "\n",
        "> Reg #: 364045\n",
        "\n",
        "\n",
        "> Reverse Reg #: 540463\n",
        "\n",
        "\n",
        "> Convert to Odd: 551573\n",
        "\n",
        "\n"
      ],
      "metadata": {
        "id": "SHImQczHjuJ8"
      }
    },
    {
      "cell_type": "code",
      "source": [
        "def CNN_model():\n",
        "  # Reg # 364045   -------   375155\n",
        "  CNN = tf.keras.models.Sequential([\n",
        "        tf.keras.layers.Conv2D(32, (5, 5), activation='relu', kernel_initializer='he_uniform', padding='same',input_shape=(32, 32, 3)),\n",
        "        tf.keras.layers.BatchNormalization(),\n",
        "        tf.keras.layers.Dropout(0.5),\n",
        "        tf.keras.layers.Conv2D(32, (5, 5), activation='relu', kernel_initializer='he_uniform', padding='same'),\n",
        "        tf.keras.layers.BatchNormalization(),\n",
        "        tf.keras.layers.MaxPooling2D((2, 2)),\n",
        "        tf.keras.layers.Dropout(0.5),\n",
        "        tf.keras.layers.Conv2D(64, (1, 1), activation='relu', kernel_initializer='he_uniform', padding='same'),\n",
        "        tf.keras.layers.BatchNormalization(),\n",
        "        tf.keras.layers.Dropout(0.5),\n",
        "        tf.keras.layers.Conv2D(64, (5, 5), activation='relu', kernel_initializer='he_uniform', padding='same'),\n",
        "        tf.keras.layers.BatchNormalization(),\n",
        "        tf.keras.layers.MaxPooling2D((2, 2)),\n",
        "        tf.keras.layers.Dropout(0.5),\n",
        "        tf.keras.layers.Conv2D(128, (7, 7), activation='relu', kernel_initializer='he_uniform', padding='same'),\n",
        "        tf.keras.layers.BatchNormalization(),\n",
        "        tf.keras.layers.Dropout(0.5),\n",
        "        tf.keras.layers.Conv2D(128, (3, 3), activation='relu', kernel_initializer='he_uniform', padding='same'),\n",
        "        tf.keras.layers.BatchNormalization(),\n",
        "        tf.keras.layers.MaxPooling2D((2, 2)),\n",
        "        tf.keras.layers.Dropout(0.5),\n",
        "        tf.keras.layers.Flatten(),\n",
        "        tf.keras.layers.Dense(128, activation='relu', kernel_initializer='he_uniform'),\n",
        "        tf.keras.layers.BatchNormalization(),\n",
        "        tf.keras.layers.Dropout(0.5),\n",
        "        tf.keras.layers.Dense(128, activation='relu', kernel_initializer='he_uniform'),\n",
        "        tf.keras.layers.Dropout(0.5),\n",
        "        tf.keras.layers.Dense(17, activation='softmax')\n",
        "  ])\n",
        "  \n",
        "  CNN.compile(optimizer='Adam',\n",
        "                  loss='categorical_crossentropy',\n",
        "                  metrics=['accuracy'])\n",
        "\n",
        "  return CNN\n"
      ],
      "metadata": {
        "id": "a1iuySVXzu4B"
      },
      "execution_count": 8,
      "outputs": []
    },
    {
      "cell_type": "code",
      "source": [
        "checkpoint = tf.keras.callbacks.ModelCheckpoint('Satalite.h5', verbose=1, save_best_only=True)\n",
        "callback = tf.keras.callbacks.EarlyStopping(monitor='val_accuracy', patience=20)\n",
        "CNN = CNN_model()\n",
        "CNN.summary()\n",
        "\n",
        "visualkeras.layered_view(CNN, legend=True)"
      ],
      "metadata": {
        "colab": {
          "base_uri": "https://localhost:8080/",
          "height": 1526
        },
        "id": "-l5EoSTq0syk",
        "outputId": "c63e7022-785c-49c3-8f3e-928e9a7a73fc"
      },
      "execution_count": 9,
      "outputs": [
        {
          "output_type": "stream",
          "name": "stdout",
          "text": [
            "Model: \"sequential\"\n",
            "_________________________________________________________________\n",
            " Layer (type)                Output Shape              Param #   \n",
            "=================================================================\n",
            " conv2d (Conv2D)             (None, 32, 32, 32)        2432      \n",
            "                                                                 \n",
            " batch_normalization (BatchN  (None, 32, 32, 32)       128       \n",
            " ormalization)                                                   \n",
            "                                                                 \n",
            " dropout (Dropout)           (None, 32, 32, 32)        0         \n",
            "                                                                 \n",
            " conv2d_1 (Conv2D)           (None, 32, 32, 32)        25632     \n",
            "                                                                 \n",
            " batch_normalization_1 (Batc  (None, 32, 32, 32)       128       \n",
            " hNormalization)                                                 \n",
            "                                                                 \n",
            " max_pooling2d (MaxPooling2D  (None, 16, 16, 32)       0         \n",
            " )                                                               \n",
            "                                                                 \n",
            " dropout_1 (Dropout)         (None, 16, 16, 32)        0         \n",
            "                                                                 \n",
            " conv2d_2 (Conv2D)           (None, 16, 16, 64)        2112      \n",
            "                                                                 \n",
            " batch_normalization_2 (Batc  (None, 16, 16, 64)       256       \n",
            " hNormalization)                                                 \n",
            "                                                                 \n",
            " dropout_2 (Dropout)         (None, 16, 16, 64)        0         \n",
            "                                                                 \n",
            " conv2d_3 (Conv2D)           (None, 16, 16, 64)        102464    \n",
            "                                                                 \n",
            " batch_normalization_3 (Batc  (None, 16, 16, 64)       256       \n",
            " hNormalization)                                                 \n",
            "                                                                 \n",
            " max_pooling2d_1 (MaxPooling  (None, 8, 8, 64)         0         \n",
            " 2D)                                                             \n",
            "                                                                 \n",
            " dropout_3 (Dropout)         (None, 8, 8, 64)          0         \n",
            "                                                                 \n",
            " conv2d_4 (Conv2D)           (None, 8, 8, 128)         401536    \n",
            "                                                                 \n",
            " batch_normalization_4 (Batc  (None, 8, 8, 128)        512       \n",
            " hNormalization)                                                 \n",
            "                                                                 \n",
            " dropout_4 (Dropout)         (None, 8, 8, 128)         0         \n",
            "                                                                 \n",
            " conv2d_5 (Conv2D)           (None, 8, 8, 128)         147584    \n",
            "                                                                 \n",
            " batch_normalization_5 (Batc  (None, 8, 8, 128)        512       \n",
            " hNormalization)                                                 \n",
            "                                                                 \n",
            " max_pooling2d_2 (MaxPooling  (None, 4, 4, 128)        0         \n",
            " 2D)                                                             \n",
            "                                                                 \n",
            " dropout_5 (Dropout)         (None, 4, 4, 128)         0         \n",
            "                                                                 \n",
            " flatten (Flatten)           (None, 2048)              0         \n",
            "                                                                 \n",
            " dense (Dense)               (None, 128)               262272    \n",
            "                                                                 \n",
            " batch_normalization_6 (Batc  (None, 128)              512       \n",
            " hNormalization)                                                 \n",
            "                                                                 \n",
            " dropout_6 (Dropout)         (None, 128)               0         \n",
            "                                                                 \n",
            " dense_1 (Dense)             (None, 128)               16512     \n",
            "                                                                 \n",
            " dropout_7 (Dropout)         (None, 128)               0         \n",
            "                                                                 \n",
            " dense_2 (Dense)             (None, 17)                2193      \n",
            "                                                                 \n",
            "=================================================================\n",
            "Total params: 965,041\n",
            "Trainable params: 963,889\n",
            "Non-trainable params: 1,152\n",
            "_________________________________________________________________\n"
          ]
        },
        {
          "output_type": "execute_result",
          "data": {
            "text/plain": [
              "<PIL.Image.Image image mode=RGBA size=1060x207 at 0x7FB3A2028A30>"
            ],
            "image/png": "[encoded data removed]"
          },
          "metadata": {},
          "execution_count": 9
        }
      ]
    },
    {
      "cell_type": "markdown",
      "source": [
        "**Plots**\n",
        "\n",
        "\n",
        "> Plotting Model Accuracies per epoch\n",
        "\n"
      ],
      "metadata": {
        "id": "i8OXpd8dkAOo"
      }
    },
    {
      "cell_type": "code",
      "source": [
        "\n",
        "# plot diagnostic learning curves\n",
        "def summarize_diagnostics(history):\n",
        "\t# plot loss\n",
        "\tplt.subplot(131)\n",
        "\tplt.title('Cross Entropy Loss')\n",
        "\tplt.plot(history.history['loss'], color='blue', label='train')\n",
        "\tplt.plot(history.history['val_loss'], color='orange', label='test')\n",
        "\t# plot accuracy\n",
        "\tplt.subplot(133)\n",
        "\tplt.title('Classification Accuracy')\n",
        "\tplt.plot(history.history['accuracy'], color='blue', label='train')\n",
        "\tplt.plot(history.history['val_accuracy'], color='orange', label='test')\n",
        "\tplt.show()\n",
        "\n"
      ],
      "metadata": {
        "id": "uQ2op7uzz0mO"
      },
      "execution_count": 10,
      "outputs": []
    },
    {
      "cell_type": "markdown",
      "source": [
        "**Model Training**\n"
      ],
      "metadata": {
        "id": "TDNVWMZOkHTh"
      }
    },
    {
      "cell_type": "code",
      "execution_count": 11,
      "metadata": {
        "colab": {
          "base_uri": "https://localhost:8080/",
          "height": 1528
        },
        "id": "QvN5Rb5ZW9T1",
        "outputId": "d967c543-6325-4331-fff8-fa47f724f7ab"
      },
      "outputs": [
        {
          "output_type": "stream",
          "name": "stdout",
          "text": [
            "1\n"
          ]
        },
        {
          "output_type": "display_data",
          "data": {
            "text/plain": [
              "<Figure size 432x288 with 1 Axes>"
            ],
            "image/png": "[encoded data removed]"
          },
          "metadata": {
            "needs_background": "light"
          }
        },
        {
          "output_type": "stream",
          "name": "stdout",
          "text": [
            "12\n"
          ]
        },
        {
          "output_type": "display_data",
          "data": {
            "text/plain": [
              "<Figure size 432x288 with 1 Axes>"
            ],
            "image/png": "[encoded data removed]"
          },
          "metadata": {
            "needs_background": "light"
          }
        },
        {
          "output_type": "stream",
          "name": "stdout",
          "text": [
            "9\n"
          ]
        },
        {
          "output_type": "display_data",
          "data": {
            "text/plain": [
              "<Figure size 432x288 with 1 Axes>"
            ],
            "image/png": "[encoded data removed]"
          },
          "metadata": {
            "needs_background": "light"
          }
        },
        {
          "output_type": "stream",
          "name": "stdout",
          "text": [
            "16\n"
          ]
        },
        {
          "output_type": "display_data",
          "data": {
            "text/plain": [
              "<Figure size 432x288 with 1 Axes>"
            ],
            "image/png": "[encoded data removed]"
          },
          "metadata": {
            "needs_background": "light"
          }
        },
        {
          "output_type": "stream",
          "name": "stdout",
          "text": [
            "1\n"
          ]
        },
        {
          "output_type": "display_data",
          "data": {
            "text/plain": [
              "<Figure size 432x288 with 1 Axes>"
            ],
            "image/png": "[encoded data removed]"
          },
          "metadata": {
            "needs_background": "light"
          }
        },
        {
          "output_type": "stream",
          "name": "stdout",
          "text": [
            "9\n"
          ]
        },
        {
          "output_type": "display_data",
          "data": {
            "text/plain": [
              "<Figure size 432x288 with 1 Axes>"
            ],
            "image/png": "[encoded data removed]"
          },
          "metadata": {
            "needs_background": "light"
          }
        },
        {
          "output_type": "stream",
          "name": "stdout",
          "text": [
            "3\n"
          ]
        },
        {
          "output_type": "display_data",
          "data": {
            "text/plain": [
              "<Figure size 432x288 with 1 Axes>"
            ],
            "image/png": "[encoded data removed]"
          },
          "metadata": {
            "needs_background": "light"
          }
        },
        {
          "output_type": "stream",
          "name": "stdout",
          "text": [
            "16\n"
          ]
        },
        {
          "output_type": "display_data",
          "data": {
            "text/plain": [
              "<Figure size 432x288 with 1 Axes>"
            ],
            "image/png": "[encoded data removed]"
          },
          "metadata": {
            "needs_background": "light"
          }
        },
        {
          "output_type": "stream",
          "name": "stdout",
          "text": [
            "8\n"
          ]
        },
        {
          "output_type": "display_data",
          "data": {
            "text/plain": [
              "<Figure size 432x288 with 1 Axes>"
            ],
            "image/png": "[encoded data removed]"
          },
          "metadata": {
            "needs_background": "light"
          }
        },
        {
          "output_type": "stream",
          "name": "stdout",
          "text": [
            "(352366, 32, 32, 3) (352366,)\n",
            "(24119, 32, 32, 3) (24119,)\n",
            "Epoch 1/5\n",
            "173/173 [==============================] - 206s 1s/step - loss: 2.3037 - accuracy: 0.3215 - val_loss: 4.4593 - val_accuracy: 0.1139\n",
            "Epoch 2/5\n",
            "173/173 [==============================] - 180s 1s/step - loss: 1.5477 - accuracy: 0.5066 - val_loss: 4.1505 - val_accuracy: 0.0790\n",
            "Epoch 3/5\n",
            "173/173 [==============================] - 178s 1s/step - loss: 1.3303 - accuracy: 0.5667 - val_loss: 3.4081 - val_accuracy: 0.1369\n",
            "Epoch 4/5\n",
            "173/173 [==============================] - 176s 1s/step - loss: 1.2086 - accuracy: 0.6052 - val_loss: 3.3191 - val_accuracy: 0.2390\n",
            "Epoch 5/5\n",
            "173/173 [==============================] - 179s 1s/step - loss: 1.1179 - accuracy: 0.6364 - val_loss: 2.6801 - val_accuracy: 0.3044\n"
          ]
        },
        {
          "output_type": "display_data",
          "data": {
            "text/plain": [
              "<Figure size 432x288 with 2 Axes>"
            ],
            "image/png": "[encoded data removed]"
          },
          "metadata": {
            "needs_background": "light"
          }
        }
      ],
      "source": [
        "def run_test_harness():\n",
        "\t# load dataset\n",
        "  X_train,Y_train,x_test,y_test = load_dataset()\n",
        "\t# prepare pixel data\n",
        "  X_train = Normalization(X_train)\n",
        "  x_test = Normalization(x_test)\n",
        "\n",
        "  Y_train = tf.keras.utils.to_categorical(Y_train)\n",
        "  y_test = tf.keras.utils.to_categorical(y_test)\n",
        "  data_train = ImageDataGenerator(rescale=1/255.0, horizontal_flip = True, rotation_range=40, height_shift_range= 0.2).flow(X_train,Y_train,batch_size=2048)\n",
        "  data_test = ImageDataGenerator(rescale=1/255.0).flow(x_test,y_test,batch_size=256)\n",
        "   \n",
        "\n",
        "  CNN = CNN_model()\n",
        "  history = CNN.fit(data_train,epochs=5, validation_data=data_test)\n",
        "  summarize_diagnostics(history)\n",
        "\n",
        "# entry point, run the test harness\n",
        "run_test_harness()"
      ]
    },
    {
      "cell_type": "markdown",
      "source": [
        "**Saving**"
      ],
      "metadata": {
        "id": "h7clV7P1kV0X"
      }
    },
    {
      "cell_type": "code",
      "source": [
        "CNN.save('Model.h5') \n",
        "# Recreate the exact same model, including its weights and the optimizer\n",
        "model = tf.keras.models.load_model('Model.h5')"
      ],
      "metadata": {
        "id": "156DsU1lkWrE"
      },
      "execution_count": null,
      "outputs": []
    },
    {
      "cell_type": "code",
      "source": [
        "X_train,Y_train,x_test,y_test = load_dataset()\n",
        "data_test = ImageDataGenerator(rescale=1/255.0).flow(x_test,y_test,batch_size=256)\n",
        "preds = model.predict(data_test, steps=5)\n",
        "label = y_test\n",
        "pred = model.predict(data_test)\n",
        "Prediction_index=np.argmax(pred,axis=1)"
      ],
      "metadata": {
        "id": "ehHp-xOzri_n"
      },
      "execution_count": null,
      "outputs": []
    },
    {
      "cell_type": "code",
      "source": [
        "Label = (data_test.class_indices)\n",
        "L = dict((v,k) for k,v in Label.items())\n",
        "predictions = [L[k] for k in Prediction_index]"
      ],
      "metadata": {
        "id": "vY5OY0ng1VvK"
      },
      "execution_count": null,
      "outputs": []
    },
    {
      "cell_type": "code",
      "source": [
        "cf_report = classification_report(Prediction_index,Label)\n",
        "cm = confusion_matrix(Prediction_index,Label)\n",
        "\n",
        "print(cf_report)"
      ],
      "metadata": {
        "id": "xVobJyXe16gK"
      },
      "execution_count": null,
      "outputs": []
    }
  ],
  "metadata": {
    "accelerator": "GPU",
    "colab": {
      "provenance": []
    },
    "gpuClass": "standard",
    "kernelspec": {
      "display_name": "Python 3",
      "name": "python3"
    },
    "language_info": {
      "name": "python"
    }
  },
  "nbformat": 4,
  "nbformat_minor": 0
}